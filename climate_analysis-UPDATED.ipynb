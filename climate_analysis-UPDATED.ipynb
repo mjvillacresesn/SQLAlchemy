{
 "cells": [
  {
   "cell_type": "markdown",
   "metadata": {},
   "source": [
    "# Dependencies"
   ]
  },
  {
   "cell_type": "code",
   "execution_count": 1,
   "metadata": {},
   "outputs": [],
   "source": [
    "# Import all my dependencies\n",
    "from matplotlib import style\n",
    "style.use('fivethirtyeight')\n",
    "import matplotlib.pyplot as plot\n",
    "%matplotlib inline"
   ]
  },
  {
   "cell_type": "code",
   "execution_count": 172,
   "metadata": {},
   "outputs": [],
   "source": [
    "import numpy as np\n",
    "import pandas as pd\n",
    "import datetime"
   ]
  },
  {
   "cell_type": "code",
   "execution_count": 24,
   "metadata": {},
   "outputs": [],
   "source": [
    "# Python SQL toolkit and Object Relational Mapper\n",
    "import sqlalchemy\n",
    "from sqlalchemy.ext.automap import automap_base\n",
    "from sqlalchemy.orm import Session\n",
    "from sqlalchemy import create_engine, func, asc , desc, and_\n",
    "from sqlalchemy import inspect\n",
    "from sqlalchemy.sql import func\n",
    "from sqlalchemy import extract"
   ]
  },
  {
   "cell_type": "code",
   "execution_count": 4,
   "metadata": {},
   "outputs": [],
   "source": [
    "import pymysql\n",
    "pymysql.install_as_MySQLdb()"
   ]
  },
  {
   "cell_type": "markdown",
   "metadata": {},
   "source": [
    "# SETUP"
   ]
  },
  {
   "cell_type": "code",
   "execution_count": 5,
   "metadata": {},
   "outputs": [],
   "source": [
    "# SETUP:\n",
    "# 1. establish connection to the engine (db) [5 steps]\n",
    "engine = create_engine(\"sqlite:///hawaii.sqlite\")"
   ]
  },
  {
   "cell_type": "code",
   "execution_count": 6,
   "metadata": {},
   "outputs": [],
   "source": [
    "# 2. Declare a Base using automap_base()\n",
    "# reflects the tables found into classes  \n",
    "Base = automap_base()"
   ]
  },
  {
   "cell_type": "code",
   "execution_count": 7,
   "metadata": {},
   "outputs": [],
   "source": [
    "# 3. Reflect the tables by calling prepare() \n",
    "Base.prepare(engine, reflect=True)"
   ]
  },
  {
   "cell_type": "code",
   "execution_count": 8,
   "metadata": {},
   "outputs": [],
   "source": [
    "# 4. Create a session and connect to engine\n",
    "# our access to querying data in our classes(tables)\n",
    "session = Session(engine)"
   ]
  },
  {
   "cell_type": "code",
   "execution_count": 9,
   "metadata": {},
   "outputs": [
    {
     "data": {
      "text/plain": [
       "['measurement', 'station']"
      ]
     },
     "execution_count": 9,
     "metadata": {},
     "output_type": "execute_result"
    }
   ],
   "source": [
    "# ACCESS:\n",
    "# 5. Print all of the classes mapped to the Base\n",
    "Base.classes.keys()"
   ]
  },
  {
   "cell_type": "code",
   "execution_count": 10,
   "metadata": {},
   "outputs": [],
   "source": [
    "# 6. Save mapping to Classes as variables \n",
    "Measurement = Base.classes.measurement\n",
    "Station = Base.classes.station"
   ]
  },
  {
   "cell_type": "code",
   "execution_count": 11,
   "metadata": {},
   "outputs": [
    {
     "name": "stdout",
     "output_type": "stream",
     "text": [
      "['measurement', 'station']\n",
      "id INTEGER\n",
      "station TEXT\n",
      "date TEXT\n",
      "prcp FLOAT\n",
      "tobs FLOAT\n",
      "---------------\n",
      "id INTEGER\n",
      "station TEXT\n",
      "name TEXT\n",
      "latitude FLOAT\n",
      "longitude FLOAT\n",
      "elevation FLOAT\n"
     ]
    }
   ],
   "source": [
    "# 7. Call the inspector to return, table's names, columns with their data types\n",
    "# optional\n",
    "inspector = inspect(engine)\n",
    "\n",
    "names = inspector.get_table_names()\n",
    "print(names)\n",
    "\n",
    "for one in inspector.get_columns('measurement'):\n",
    "    print(one['name'], one['type'] )\n",
    "\n",
    "print('---------------')\n",
    "for o in inspector.get_columns('station'):\n",
    "    print(o['name'], o['type'] )"
   ]
  },
  {
   "cell_type": "markdown",
   "metadata": {},
   "source": [
    "# Precipitation Analysis"
   ]
  },
  {
   "cell_type": "markdown",
   "metadata": {},
   "source": [
    "## Vacation Dates : July 1 -15"
   ]
  },
  {
   "cell_type": "code",
   "execution_count": 12,
   "metadata": {},
   "outputs": [
    {
     "name": "stdout",
     "output_type": "stream",
     "text": [
      "('2017-08-23',)\n",
      "('2017-08-23',)\n",
      "('2017-08-23',)\n"
     ]
    }
   ],
   "source": [
    "# 1. Design a query to retrieve the last 12 months of precipitation data and plot the results:\n",
    "\n",
    "# First query data and get last date \n",
    "for prec in session.query(Measurement.date).order_by(desc(Measurement.date)).limit(3).all():\n",
    "    print(prec)"
   ]
  },
  {
   "cell_type": "code",
   "execution_count": 13,
   "metadata": {},
   "outputs": [],
   "source": [
    "# Query 12 months for precipitation\n",
    "prec = session.query(Measurement.date, Measurement.prcp).filter(Measurement.date >= '2016-08-23').order_by(desc(Measurement.date))"
   ]
  },
  {
   "cell_type": "code",
   "execution_count": 14,
   "metadata": {},
   "outputs": [],
   "source": [
    "# 2. Save as Pandas DataFrame \n",
    "df = pd.read_sql(prec.statement, session.bind)\n",
    "precdf = df.dropna().sort_values(['date']).groupby(['date']).count()\n",
    "precdata = df.dropna().sort_values(['date']).set_index('date')"
   ]
  },
  {
   "cell_type": "code",
   "execution_count": 15,
   "metadata": {
    "scrolled": false
   },
   "outputs": [
    {
     "data": {
      "image/png": "[encoded data removed]",
      "text/plain": [
       "<Figure size 432x288 with 1 Axes>"
      ]
     },
     "metadata": {
      "needs_background": "light"
     },
     "output_type": "display_data"
    }
   ],
   "source": [
    "# 3 .Use Pandas Plotting with Matplotlib to plot the data \n",
    "plot_prcp = precdata.plot(color='lightblue', alpha=0.95)\n",
    "plot.xticks([])\n",
    "plot.xlabel(\"date\")\n",
    "plot.legend(loc=0)\n",
    "plot.show(plot_prcp)"
   ]
  },
  {
   "cell_type": "code",
   "execution_count": 16,
   "metadata": {},
   "outputs": [
    {
     "data": {
      "text/html": [
       "<div>\n",
       "<style scoped>\n",
       "    .dataframe tbody tr th:only-of-type {\n",
       "        vertical-align: middle;\n",
       "    }\n",
       "\n",
       "    .dataframe tbody tr th {\n",
       "        vertical-align: top;\n",
       "    }\n",
       "\n",
       "    .dataframe thead th {\n",
       "        text-align: right;\n",
       "    }\n",
       "</style>\n",
       "<table border=\"1\" class=\"dataframe\">\n",
       "  <thead>\n",
       "    <tr style=\"text-align: right;\">\n",
       "      <th></th>\n",
       "      <th>prcp</th>\n",
       "    </tr>\n",
       "  </thead>\n",
       "  <tbody>\n",
       "    <tr>\n",
       "      <th>count</th>\n",
       "      <td>2021.000000</td>\n",
       "    </tr>\n",
       "    <tr>\n",
       "      <th>mean</th>\n",
       "      <td>0.177279</td>\n",
       "    </tr>\n",
       "    <tr>\n",
       "      <th>std</th>\n",
       "      <td>0.461190</td>\n",
       "    </tr>\n",
       "    <tr>\n",
       "      <th>min</th>\n",
       "      <td>0.000000</td>\n",
       "    </tr>\n",
       "    <tr>\n",
       "      <th>25%</th>\n",
       "      <td>0.000000</td>\n",
       "    </tr>\n",
       "    <tr>\n",
       "      <th>50%</th>\n",
       "      <td>0.020000</td>\n",
       "    </tr>\n",
       "    <tr>\n",
       "      <th>75%</th>\n",
       "      <td>0.130000</td>\n",
       "    </tr>\n",
       "    <tr>\n",
       "      <th>max</th>\n",
       "      <td>6.700000</td>\n",
       "    </tr>\n",
       "  </tbody>\n",
       "</table>\n",
       "</div>"
      ],
      "text/plain": [
       "              prcp\n",
       "count  2021.000000\n",
       "mean      0.177279\n",
       "std       0.461190\n",
       "min       0.000000\n",
       "25%       0.000000\n",
       "50%       0.020000\n",
       "75%       0.130000\n",
       "max       6.700000"
      ]
     },
     "execution_count": 16,
     "metadata": {},
     "output_type": "execute_result"
    }
   ],
   "source": [
    "# 4. Get the summary statistics for the precipitation data\n",
    "precdata.describe()"
   ]
  },
  {
   "cell_type": "markdown",
   "metadata": {},
   "source": [
    "# Station Analysis"
   ]
  },
  {
   "cell_type": "code",
   "execution_count": 17,
   "metadata": {},
   "outputs": [
    {
     "data": {
      "text/plain": [
       "9"
      ]
     },
     "execution_count": 17,
     "metadata": {},
     "output_type": "execute_result"
    }
   ],
   "source": [
    "# 5. Query total number of stations using func.count (3 methods)\n",
    "\n",
    "# for one in session.query(func.count(Station.station)).all():\n",
    "#     print(one)\n",
    "\n",
    "# session.query(func.count(Station.station)).first()\n",
    "\n",
    "session.query(Station).count()"
   ]
  },
  {
   "cell_type": "code",
   "execution_count": 18,
   "metadata": {},
   "outputs": [
    {
     "name": "stdout",
     "output_type": "stream",
     "text": [
      "The most active station in Hawaii is USC00519281, with 2772 total number of observations recorded and located at WAIHEE 837.5, HI US.\n",
      "----------------------------------------------------------------\n",
      "Min temp: 54.0\n",
      "Max temp: 85.0\n",
      "Avg temp: 71.66378066378067\n"
     ]
    }
   ],
   "source": [
    "# 6. Design a query to find the most active station(s)\n",
    "topStation = session.query(Measurement.station, func.count(Measurement.tobs).label('total')).group_by(Measurement.station).order_by(desc('total')).first()\n",
    "\n",
    "# Design a query to get the name of the station\n",
    "topname = session.query(Station.name).filter(Station.station == \"USC00519281\").first()\n",
    "\n",
    "# Calculate the low ,high, and avg temp for the most active station\n",
    "temps = session.query(func.min(Measurement.tobs), func.max(Measurement.tobs), func.avg(Measurement.tobs)).filter(Measurement.station == 'USC00519281').first()\n",
    "\n",
    "print(f\"The most active station in Hawaii is {topStation[0]}, with {topStation[1]} total number of observations recorded and located at {topname[0]}.\")\n",
    "print(\"----------------------------------------------------------------\")\n",
    "print(f\"Min temp: {temps[0]}\")\n",
    "print(f\"Max temp: {temps[1]}\")\n",
    "print(f\"Avg temp: {temps[2]}\")"
   ]
  },
  {
   "cell_type": "code",
   "execution_count": 19,
   "metadata": {},
   "outputs": [],
   "source": [
    "# 7. Choose the station with the highest number of tobs \n",
    "#  query the last 12 months of temp obs\n",
    "pstation = session.query(Measurement.tobs, Measurement.date).filter(Measurement.station == 'USC00519281').filter(Measurement.date <= '2017-08-23').\\\n",
    "        filter(Measurement.date >= '2016-08-23')"
   ]
  },
  {
   "cell_type": "code",
   "execution_count": 20,
   "metadata": {},
   "outputs": [
    {
     "data": {
      "text/html": [
       "<div>\n",
       "<style scoped>\n",
       "    .dataframe tbody tr th:only-of-type {\n",
       "        vertical-align: middle;\n",
       "    }\n",
       "\n",
       "    .dataframe tbody tr th {\n",
       "        vertical-align: top;\n",
       "    }\n",
       "\n",
       "    .dataframe thead th {\n",
       "        text-align: right;\n",
       "    }\n",
       "</style>\n",
       "<table border=\"1\" class=\"dataframe\">\n",
       "  <thead>\n",
       "    <tr style=\"text-align: right;\">\n",
       "      <th></th>\n",
       "      <th>tobs</th>\n",
       "    </tr>\n",
       "  </thead>\n",
       "  <tbody>\n",
       "    <tr>\n",
       "      <th>count</th>\n",
       "      <td>352.000000</td>\n",
       "    </tr>\n",
       "    <tr>\n",
       "      <th>mean</th>\n",
       "      <td>73.107955</td>\n",
       "    </tr>\n",
       "    <tr>\n",
       "      <th>std</th>\n",
       "      <td>4.733315</td>\n",
       "    </tr>\n",
       "    <tr>\n",
       "      <th>min</th>\n",
       "      <td>59.000000</td>\n",
       "    </tr>\n",
       "    <tr>\n",
       "      <th>25%</th>\n",
       "      <td>70.000000</td>\n",
       "    </tr>\n",
       "    <tr>\n",
       "      <th>50%</th>\n",
       "      <td>74.000000</td>\n",
       "    </tr>\n",
       "    <tr>\n",
       "      <th>75%</th>\n",
       "      <td>77.000000</td>\n",
       "    </tr>\n",
       "    <tr>\n",
       "      <th>max</th>\n",
       "      <td>83.000000</td>\n",
       "    </tr>\n",
       "  </tbody>\n",
       "</table>\n",
       "</div>"
      ],
      "text/plain": [
       "             tobs\n",
       "count  352.000000\n",
       "mean    73.107955\n",
       "std      4.733315\n",
       "min     59.000000\n",
       "25%     70.000000\n",
       "50%     74.000000\n",
       "75%     77.000000\n",
       "max     83.000000"
      ]
     },
     "execution_count": 20,
     "metadata": {},
     "output_type": "execute_result"
    }
   ],
   "source": [
    "# 8. Save query as Df  \n",
    "tempdf = pd.read_sql(pstation.statement, session.bind)\n",
    "tempdf.sort_values('tobs')\n",
    "tempdf.describe()"
   ]
  },
  {
   "cell_type": "code",
   "execution_count": 21,
   "metadata": {},
   "outputs": [
    {
     "data": {
      "image/png": "[encoded data removed]",
      "text/plain": [
       "<Figure size 432x288 with 1 Axes>"
      ]
     },
     "metadata": {
      "needs_background": "light"
     },
     "output_type": "display_data"
    }
   ],
   "source": [
    "# 9. Plot histogram, bins=12\n",
    "popular_station = plot.hist(tempdf['tobs'], bins=12, alpha=0.5)\n",
    "plot.ylabel(\"Frequency\")\n",
    "plot.legend([\"tobs\"])\n",
    "plot.show(popular_station)"
   ]
  },
  {
   "cell_type": "markdown",
   "metadata": {},
   "source": [
    "# Temperature Analysis for my Trip : </br> 07-01-2017 to 01-15-2017"
   ]
  },
  {
   "cell_type": "code",
   "execution_count": 95,
   "metadata": {},
   "outputs": [
    {
     "name": "stdout",
     "output_type": "stream",
     "text": [
      "Here are your Trip's Temperature Results!\n",
      " Min temp : 69.0\n",
      " Avg Temp : 78.25\n",
      " Max temp : 87.0\n"
     ]
    }
   ],
   "source": [
    "# This function called `calc_temps` will accept start date and end date in the format '%Y-%m-%d' \n",
    "# and return the minimum, average, and maximum temperatures for that range of dates\n",
    "def calc_temps(start_date, end_date):\n",
    "    \"\"\"\n",
    "    Args:\n",
    "        start_date (string): A date string in the format 'YYYY-mm-dd'\n",
    "        end_date (string): A date string in the format 'YYYY-mm-dd'\n",
    "        \n",
    "    Returns: Tuple\n",
    "        MinTemp, MaxTemp, AveTemp \n",
    "    \"\"\"\n",
    "    startDate = start_date    \n",
    "    endDate = end_date\n",
    "        \n",
    "    calcTemp = session.query(func.min(Measurement.tobs), func.avg(Measurement.tobs), func.max(Measurement.tobs)).\\\n",
    "    filter(and_(Measurement.date >= start_date, Measurement.date <= end_date)).all()\n",
    "                                                      \n",
    "    return calcTemp                                       \n",
    "    \n",
    "# call fucntion and used for loop to obtain each element inside the 'return' tuple  \n",
    "for reslt in calc_temps('2017-07-01', '2017-07-15'):\n",
    "    print(\"Here are your Trip's Temperature Results!\")\n",
    "    print(f\" Min temp : {reslt[0]}\")\n",
    "    print(f\" Avg Temp : {reslt[1]}\")\n",
    "    print(f\" Max temp : {reslt[2]}\")"
   ]
  },
  {
   "cell_type": "code",
   "execution_count": 94,
   "metadata": {},
   "outputs": [],
   "source": [
    "from matplotlib.pyplot import figure"
   ]
  },
  {
   "cell_type": "code",
   "execution_count": 100,
   "metadata": {},
   "outputs": [],
   "source": [
    "# created a lambda fucnt to calculate the peak to peak (tmax-tmin))\n",
    "peak2peak = lambda x, y: y-x\n",
    "abc = peak2peak(reslt[0], reslt[2] )"
   ]
  },
  {
   "cell_type": "code",
   "execution_count": 110,
   "metadata": {},
   "outputs": [
    {
     "data": {
      "image/png": "[encoded data removed]",
      "text/plain": [
       "<Figure size 288x576 with 1 Axes>"
      ]
     },
     "metadata": {
      "needs_background": "light"
     },
     "output_type": "display_data"
    }
   ],
   "source": [
    "# 13. plot the results from your previous query as a bar chart. \n",
    "#     Use \"Trip Avg Temp\" as your Title\n",
    "#     Use the average temperature for the y value\n",
    "#     Use the peak-to-peak (tmax-tmin) value as the y error bar (yerr)\n",
    "#       Error bars are graphical representations of the variability of data and used on graphs to indicate the error or uncertainty in a reported measurement. \n",
    "#       They give a general idea of how precise a measurement is,\n",
    "#       or conversely, how far from the reported value the true (error free) value might be.\n",
    "#        Error bars that represent the 95% confidence interval (CI) of a mean are wider than SE error bars \n",
    "\n",
    "\n",
    "\n",
    "mean = reslt[1]\n",
    "peak2peak = abc\n",
    "ind = 1    # the x locations for the groups\n",
    "\n",
    "plot.figure(figsize=(4,8))\n",
    "plot.xticks([])\n",
    "\n",
    "plot.title(\"Trip Avg Temp\")\n",
    "plot.ylabel(\"Temp (F)\")\n",
    "plot.xlim(.10 , 1.8)\n",
    "plot.ylim(0,105)\n",
    "\n",
    "mytrip_temp = plot.bar(ind, mean, yerr=peak2peak, color='lightcoral', ecolor=\"yellow\", align=\"center\", alpha=0.4)"
   ]
  },
  {
   "cell_type": "markdown",
   "metadata": {},
   "source": [
    "# Rainfall per Weather Station for Trip"
   ]
  },
  {
   "cell_type": "code",
   "execution_count": 167,
   "metadata": {},
   "outputs": [
    {
     "name": "stdout",
     "output_type": "stream",
     "text": [
      "Total calculated rainfall from July 1-15, 2017 per weather station\n",
      "--------------------------------------\n",
      " USC00516128 : 2.8700000000000006 | Location : MANOA LYON ARBO 785.2, HI US  \n",
      " USC00519281 : 1.6400000000000001 | Location : WAIHEE 837.5, HI US  \n",
      " USC00513117 : 0.8300000000000001 | Location : KANEOHE 838.1, HI US  \n",
      " USC00519397 : 0.21 | Location : WAIKIKI 717.2, HI US  \n",
      " USC00514830 : 0.39 | Location : KUALOA RANCH HEADQUARTERS 886.9, HI US  \n",
      " USC00517948 : None | Location : PEARL CITY, HI US  \n",
      " USC00519523 : 0.13 | Location : WAIMANALO EXPERIMENTAL FARM, HI US  \n"
     ]
    }
   ],
   "source": [
    "# 14. Is it going to rain during my trip in several parts of Hawaii? \n",
    "#session.query(Measurement.date, Measurement.prcp, Measurement.station).filter(Measurement.date >= '2016-08-23').order_by(desc(Measurement.date)).all()\n",
    "\n",
    "print(\"Total calculated rainfall from July 1-15, 2017 per weather station\")\n",
    "print(\"--------------------------------------\") \n",
    "for tolrainf in session.query(func.sum(Measurement.prcp), Measurement.station, Station.name).filter(Measurement.station == Station.station).filter(and_(Measurement.date >= '2017-07-01', Measurement.date <= '2017-07-15')).order_by(desc(Measurement.prcp)).group_by(Measurement.station):\n",
    "    print (f\" {tolrainf[1]} : {tolrainf[0]} | Location : {tolrainf[2]}\" )"
   ]
  },
  {
   "cell_type": "markdown",
   "metadata": {},
   "source": [
    "## Daily Normals for My Trip\n",
    "* OPTChall"
   ]
  },
  {
   "cell_type": "code",
   "execution_count": 191,
   "metadata": {},
   "outputs": [
    {
     "data": {
      "text/plain": [
       "(67.0, 74.77777777777777, 81.0)"
      ]
     },
     "execution_count": 191,
     "metadata": {},
     "output_type": "execute_result"
    }
   ],
   "source": [
    "# 15. Create a query that will calculate the daily normals \n",
    "# (i.e. the averages for tmin, tmax, and tavg for all historic data matching a specific month and day)\n",
    "\n",
    "def daily_normals(date):\n",
    "    \"\"\"Daily Normals.\n",
    "    \n",
    "    Args:\n",
    "        date (str): A date string in the format '%m-%d'\n",
    "        \n",
    "    Returns:\n",
    "        A list of tuples containing the daily normals, tmin, tavg, and tmax\n",
    "    \n",
    "    \"\"\"\n",
    "    \n",
    "    sel = (func.min(Measurement.tobs), func.avg(Measurement.tobs), func.max(Measurement.tobs))\n",
    "    return session.query(*sel).filter(func.strftime(\"%m-%d\", Measurement.date) == date).first()\n",
    "\n",
    "# testing\n",
    "daily_normals(\"07-01\")"
   ]
  },
  {
   "cell_type": "code",
   "execution_count": 203,
   "metadata": {},
   "outputs": [
    {
     "name": "stdout",
     "output_type": "stream",
     "text": [
      "['07-01', '07-02', '07-03', '07-04', '07-05', '07-06', '07-07', '07-08', '07-09', '07-10', '07-11', '07-12', '07-13', '07-14']\n"
     ]
    }
   ],
   "source": [
    "# 16. use fuction to create a range of specific dates\n",
    "start = datetime.datetime.strptime(\"07-01\", \"%m-%d\")\n",
    "end = datetime.datetime.strptime(\"07-15\", \"%m-%d\")\n",
    "date_generated = [start + datetime.timedelta(days=x) for x in range(0, (end-start).days)]\n",
    "\n",
    "myTripDates = []\n",
    "\n",
    "for date in date_generated:\n",
    "    myTripDates.append(date.strftime(\"%m-%d\"))  \n",
    "    \n",
    "print(myTripDates)"
   ]
  },
  {
   "cell_type": "code",
   "execution_count": 200,
   "metadata": {},
   "outputs": [
    {
     "name": "stdout",
     "output_type": "stream",
     "text": [
      " Daily Normals for my Trip : [(67.0, 74.77777777777777, 81.0), (68.0, 75.40384615384616, 82.0), (68.0, 75.32075471698113, 87.0), (70.0, 76.57142857142857, 81.0), (66.0, 75.0, 81.0), (69.0, 75.0, 81.0), (69.0, 74.91071428571429, 82.0), (69.0, 76.08333333333333, 83.0), (68.0, 76.19298245614036, 83.0), (68.0, 75.62068965517241, 82.0), (70.0, 75.78947368421052, 81.0), (67.0, 75.96491228070175, 82.0), (69.0, 76.1896551724138, 81.0), (61.0, 76.2280701754386, 82.0)] \n"
     ]
    }
   ],
   "source": [
    "# A. created a for loop that runs through date_list, \n",
    "# B. pulls each \"day\" and plugs it in def daily_normals(),\n",
    "# C. appends each return of (min, avg, max temp) into new tuple list \n",
    "\n",
    "dailyNorm = []\n",
    "\n",
    "for day in myTripDates:\n",
    "    dailyNorm.append(daily_normals(day))\n",
    "    \n",
    "print(f\" Daily Normals for my Trip : {dailyNorm} \")"
   ]
  },
  {
   "cell_type": "code",
   "execution_count": 223,
   "metadata": {},
   "outputs": [],
   "source": [
    "# 18. Save as Pandas DF\n",
    "\n",
    "datesdf = pd.DataFrame(myTripDates, columns=['Dates'])"
   ]
  },
  {
   "cell_type": "code",
   "execution_count": 209,
   "metadata": {},
   "outputs": [],
   "source": [
    "normalsdf = pd.DataFrame(dailyNorm, columns=['Min', 'Average', 'Max'])"
   ]
  },
  {
   "cell_type": "code",
   "execution_count": 225,
   "metadata": {},
   "outputs": [
    {
     "data": {
      "text/html": [
       "<div>\n",
       "<style scoped>\n",
       "    .dataframe tbody tr th:only-of-type {\n",
       "        vertical-align: middle;\n",
       "    }\n",
       "\n",
       "    .dataframe tbody tr th {\n",
       "        vertical-align: top;\n",
       "    }\n",
       "\n",
       "    .dataframe thead th {\n",
       "        text-align: right;\n",
       "    }\n",
       "</style>\n",
       "<table border=\"1\" class=\"dataframe\">\n",
       "  <thead>\n",
       "    <tr style=\"text-align: right;\">\n",
       "      <th></th>\n",
       "      <th>Min</th>\n",
       "      <th>Average</th>\n",
       "      <th>Max</th>\n",
       "    </tr>\n",
       "    <tr>\n",
       "      <th>Dates</th>\n",
       "      <th></th>\n",
       "      <th></th>\n",
       "      <th></th>\n",
       "    </tr>\n",
       "  </thead>\n",
       "  <tbody>\n",
       "    <tr>\n",
       "      <th>07-01</th>\n",
       "      <td>67.0</td>\n",
       "      <td>74.777778</td>\n",
       "      <td>81.0</td>\n",
       "    </tr>\n",
       "    <tr>\n",
       "      <th>07-02</th>\n",
       "      <td>68.0</td>\n",
       "      <td>75.403846</td>\n",
       "      <td>82.0</td>\n",
       "    </tr>\n",
       "    <tr>\n",
       "      <th>07-03</th>\n",
       "      <td>68.0</td>\n",
       "      <td>75.320755</td>\n",
       "      <td>87.0</td>\n",
       "    </tr>\n",
       "    <tr>\n",
       "      <th>07-04</th>\n",
       "      <td>70.0</td>\n",
       "      <td>76.571429</td>\n",
       "      <td>81.0</td>\n",
       "    </tr>\n",
       "    <tr>\n",
       "      <th>07-05</th>\n",
       "      <td>66.0</td>\n",
       "      <td>75.000000</td>\n",
       "      <td>81.0</td>\n",
       "    </tr>\n",
       "    <tr>\n",
       "      <th>07-06</th>\n",
       "      <td>69.0</td>\n",
       "      <td>75.000000</td>\n",
       "      <td>81.0</td>\n",
       "    </tr>\n",
       "    <tr>\n",
       "      <th>07-07</th>\n",
       "      <td>69.0</td>\n",
       "      <td>74.910714</td>\n",
       "      <td>82.0</td>\n",
       "    </tr>\n",
       "    <tr>\n",
       "      <th>07-08</th>\n",
       "      <td>69.0</td>\n",
       "      <td>76.083333</td>\n",
       "      <td>83.0</td>\n",
       "    </tr>\n",
       "    <tr>\n",
       "      <th>07-09</th>\n",
       "      <td>68.0</td>\n",
       "      <td>76.192982</td>\n",
       "      <td>83.0</td>\n",
       "    </tr>\n",
       "    <tr>\n",
       "      <th>07-10</th>\n",
       "      <td>68.0</td>\n",
       "      <td>75.620690</td>\n",
       "      <td>82.0</td>\n",
       "    </tr>\n",
       "    <tr>\n",
       "      <th>07-11</th>\n",
       "      <td>70.0</td>\n",
       "      <td>75.789474</td>\n",
       "      <td>81.0</td>\n",
       "    </tr>\n",
       "    <tr>\n",
       "      <th>07-12</th>\n",
       "      <td>67.0</td>\n",
       "      <td>75.964912</td>\n",
       "      <td>82.0</td>\n",
       "    </tr>\n",
       "    <tr>\n",
       "      <th>07-13</th>\n",
       "      <td>69.0</td>\n",
       "      <td>76.189655</td>\n",
       "      <td>81.0</td>\n",
       "    </tr>\n",
       "    <tr>\n",
       "      <th>07-14</th>\n",
       "      <td>61.0</td>\n",
       "      <td>76.228070</td>\n",
       "      <td>82.0</td>\n",
       "    </tr>\n",
       "  </tbody>\n",
       "</table>\n",
       "</div>"
      ],
      "text/plain": [
       "        Min    Average   Max\n",
       "Dates                       \n",
       "07-01  67.0  74.777778  81.0\n",
       "07-02  68.0  75.403846  82.0\n",
       "07-03  68.0  75.320755  87.0\n",
       "07-04  70.0  76.571429  81.0\n",
       "07-05  66.0  75.000000  81.0\n",
       "07-06  69.0  75.000000  81.0\n",
       "07-07  69.0  74.910714  82.0\n",
       "07-08  69.0  76.083333  83.0\n",
       "07-09  68.0  76.192982  83.0\n",
       "07-10  68.0  75.620690  82.0\n",
       "07-11  70.0  75.789474  81.0\n",
       "07-12  67.0  75.964912  82.0\n",
       "07-13  69.0  76.189655  81.0\n",
       "07-14  61.0  76.228070  82.0"
      ]
     },
     "execution_count": 225,
     "metadata": {},
     "output_type": "execute_result"
    }
   ],
   "source": [
    "dfDaily = pd.concat([datesdf, normalsdf], axis = 1)\n",
    "dfDaily.set_index('Dates')"
   ]
  },
  {
   "cell_type": "code",
   "execution_count": 227,
   "metadata": {},
   "outputs": [
    {
     "data": {
      "image/png": "[encoded data removed]",
      "text/plain": [
       "<Figure size 432x288 with 1 Axes>"
      ]
     },
     "metadata": {
      "needs_background": "light"
     },
     "output_type": "display_data"
    }
   ],
   "source": [
    "# 19. Plot Daily Normals for Trip\n",
    "DailyPlot = dfDaily.plot.area(stacked=False)"
   ]
  },
  {
   "cell_type": "code",
   "execution_count": null,
   "metadata": {},
   "outputs": [],
   "source": []
  }
 ],
 "metadata": {
  "kernel_info": {
   "name": "python3"
  },
  "kernelspec": {
   "display_name": "Python 3",
   "language": "python",
   "name": "python3"
  },
  "language_info": {
   "codemirror_mode": {
    "name": "ipython",
    "version": 3
   },
   "file_extension": ".py",
   "mimetype": "text/x-python",
   "name": "python",
   "nbconvert_exporter": "python",
   "pygments_lexer": "ipython3",
   "version": "3.6.8"
  },
  "nteract": {
   "version": "0.9.1"
  },
  "varInspector": {
   "cols": {
    "lenName": 16,
    "lenType": 16,
    "lenVar": 40
   },
   "kernels_config": {
    "python": {
     "delete_cmd_postfix": "",
     "delete_cmd_prefix": "del ",
     "library": "var_list.py",
     "varRefreshCmd": "print(var_dic_list())"
    },
    "r": {
     "delete_cmd_postfix": ") ",
     "delete_cmd_prefix": "rm(",
     "library": "var_list.r",
     "varRefreshCmd": "cat(var_dic_list()) "
    }
   },
   "types_to_exclude": [
    "module",
    "function",
    "builtin_function_or_method",
    "instance",
    "_Feature"
   ],
   "window_display": false
  }
 },
 "nbformat": 4,
 "nbformat_minor": 2
}
