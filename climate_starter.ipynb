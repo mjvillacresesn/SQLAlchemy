{
 "cells": [
  {
   "cell_type": "code",
   "execution_count": 716,
   "metadata": {},
   "outputs": [],
   "source": [
    "# Import all my dependencies\n",
    "%matplotlib inline\n",
    "from matplotlib import style\n",
    "style.use('fivethirtyeight')\n",
    "import matplotlib.pyplot as plt"
   ]
  },
  {
   "cell_type": "code",
   "execution_count": 717,
   "metadata": {},
   "outputs": [],
   "source": [
    "import numpy as np\n",
    "import pandas as pd\n",
    "import datetime as dt"
   ]
  },
  {
   "cell_type": "markdown",
   "metadata": {},
   "source": [
    "# Reflect Tables into SQLAlchemy ORM"
   ]
  },
  {
   "cell_type": "code",
   "execution_count": 718,
   "metadata": {},
   "outputs": [],
   "source": [
    "# Python SQL toolkit and Object Relational Mapper\n",
    "import sqlalchemy\n",
    "from sqlalchemy.ext.automap import automap_base\n",
    "from sqlalchemy.orm import Session\n",
    "from sqlalchemy import create_engine, func, asc\n",
    "from sqlalchemy import inspect"
   ]
  },
  {
   "cell_type": "code",
   "execution_count": 719,
   "metadata": {},
   "outputs": [],
   "source": [
    "import pymysql\n",
    "pymysql.install_as_MySQLdb()"
   ]
  },
  {
   "cell_type": "code",
   "execution_count": 720,
   "metadata": {},
   "outputs": [],
   "source": [
    "# step 1: establish connection to the engine (db) [5 steps]\n",
    "# papa\n",
    "engine = create_engine(\"sqlite:///hawaii.sqlite\")\n",
    "#prints the tables names directly form the \"engine\" \n",
    "#print(engine.table_names())"
   ]
  },
  {
   "cell_type": "code",
   "execution_count": 721,
   "metadata": {},
   "outputs": [
    {
     "name": "stdout",
     "output_type": "stream",
     "text": [
      "['measurement', 'station']\n"
     ]
    }
   ],
   "source": [
    "# optional: use inspect() to obtain table names\n",
    "# Entry point to SQLAlchemy’s public API for viewing the configuration and construction of in-memory objects\n",
    "# https://docs.sqlalchemy.org/en/latest/core/inspection.html\n",
    "inspector = inspect(engine)\n",
    "print(inspector.get_table_names())"
   ]
  },
  {
   "cell_type": "code",
   "execution_count": 722,
   "metadata": {},
   "outputs": [],
   "source": [
    "# step 2: reflect an existing database into a new model\n",
    "Base = automap_base()\n",
    "\n",
    "# reflect the tables\n",
    "Base.prepare(engine, reflect=True)"
   ]
  },
  {
   "cell_type": "code",
   "execution_count": 723,
   "metadata": {},
   "outputs": [
    {
     "data": {
      "text/plain": [
       "['measurement', 'station']"
      ]
     },
     "execution_count": 723,
     "metadata": {},
     "output_type": "execute_result"
    }
   ],
   "source": [
    "# view all of the classes(tables) found using automap() \n",
    "Base.classes.keys()"
   ]
  },
  {
   "cell_type": "code",
   "execution_count": 724,
   "metadata": {},
   "outputs": [],
   "source": [
    "# step 3: save references to each table\n",
    "Measurement = Base.classes.measurement\n",
    "Station = Base.classes.station"
   ]
  },
  {
   "cell_type": "code",
   "execution_count": 725,
   "metadata": {},
   "outputs": [],
   "source": [
    "# print(Measurement)\n",
    "# what does \"ext\" in the output reference?"
   ]
  },
  {
   "cell_type": "code",
   "execution_count": 726,
   "metadata": {},
   "outputs": [],
   "source": [
    "# step 4: create our session(link) to the DB\n",
    "# nieto\n",
    "session = Session(engine)"
   ]
  },
  {
   "cell_type": "code",
   "execution_count": 727,
   "metadata": {},
   "outputs": [],
   "source": [
    "#station_list = session.query(Station).order_by(Station.name.desc())\n",
    "#for one in station_list:\n",
    " #   print(one.name)"
   ]
  },
  {
   "cell_type": "markdown",
   "metadata": {},
   "source": [
    "# Exploratory Climate Analysis"
   ]
  },
  {
   "cell_type": "code",
   "execution_count": 728,
   "metadata": {},
   "outputs": [
    {
     "data": {
      "text/plain": [
       "[('2017-08-23'),\n",
       " ('2017-08-23'),\n",
       " ('2017-08-23'),\n",
       " ('2017-08-23'),\n",
       " ('2017-08-22')]"
      ]
     },
     "execution_count": 728,
     "metadata": {},
     "output_type": "execute_result"
    }
   ],
   "source": [
    "# Design a query to retrieve the last 12 months of precipitation data and plot the results:\n",
    "\n",
    "# 1.calculate the date 1 year ago from the last data point in the database #'2017-08-23'\n",
    "session.query(Measurement.date).order_by(Measurement.date.desc()).limit(5).all()\n",
    "#for each in List:\n",
    "#   print(each.date) "
   ]
  },
  {
   "cell_type": "code",
   "execution_count": 729,
   "metadata": {},
   "outputs": [],
   "source": [
    "# 2.perform a query to retrieve the data and precipitation scores\n",
    "#   displays all data from all columns in table \"Measurements\" for dates  2016-08-23 to 2017-08-23\n",
    "prcp_data = session.query(Measurement).filter(Measurement.date <= '2017-08-23').\\\n",
    "        filter(Measurement.date >= '2016-08-23')"
   ]
  },
  {
   "cell_type": "code",
   "execution_count": 730,
   "metadata": {},
   "outputs": [],
   "source": [
    "# 3.save the query results as a Pandas DataFrame \n",
    "precip_df = pd.read_sql_query(prcp_data.statement, session.bind)"
   ]
  },
  {
   "cell_type": "code",
   "execution_count": 731,
   "metadata": {},
   "outputs": [],
   "source": [
    "# 3b.displays all data from columns: \"date\"(set as index), and \"prcp\"\n",
    "data_index = precip_df[[\"date\",\"prcp\"]].set_index(\"date\")"
   ]
  },
  {
   "cell_type": "code",
   "execution_count": 732,
   "metadata": {},
   "outputs": [
    {
     "data": {
      "text/plain": [
       "{'prcp': {'2016-08-23': 0.7,\n",
       "  '2016-08-24': 1.45,\n",
       "  '2016-08-25': 0.11,\n",
       "  '2016-08-26': 0.01,\n",
       "  '2016-08-27': nan,\n",
       "  '2016-08-28': 2.07,\n",
       "  '2016-08-29': 0.9,\n",
       "  '2016-08-30': 0.05,\n",
       "  '2016-08-31': 2.46,\n",
       "  '2016-09-01': 0.01,\n",
       "  '2016-09-02': 0.03,\n",
       "  '2016-09-03': 1.0,\n",
       "  '2016-09-04': 0.44,\n",
       "  '2016-09-05': 0.18,\n",
       "  '2016-09-06': 1.0,\n",
       "  '2016-09-07': 1.35,\n",
       "  '2016-09-08': 0.15,\n",
       "  '2016-09-09': 0.35,\n",
       "  '2016-09-10': 1.16,\n",
       "  '2016-09-11': 0.6,\n",
       "  '2016-09-12': 1.04,\n",
       "  '2016-09-13': 1.2,\n",
       "  '2016-09-14': 6.7,\n",
       "  '2016-09-15': 3.35,\n",
       "  '2016-09-16': 0.61,\n",
       "  '2016-09-17': 0.23,\n",
       "  '2016-09-18': 0.42,\n",
       "  '2016-09-19': 0.25,\n",
       "  '2016-09-20': 0.43,\n",
       "  '2016-09-21': 1.02,\n",
       "  '2016-09-22': 0.75,\n",
       "  '2016-09-23': 0.33,\n",
       "  '2016-09-24': 0.27,\n",
       "  '2016-09-25': 0.04,\n",
       "  '2016-09-26': 1.02,\n",
       "  '2016-09-27': 1.0,\n",
       "  '2016-09-28': 0.05,\n",
       "  '2016-09-29': 1.49,\n",
       "  '2016-09-30': 0.38,\n",
       "  '2016-10-01': 1.02,\n",
       "  '2016-10-02': 0.61,\n",
       "  '2016-10-03': 0.46,\n",
       "  '2016-10-04': 3.46,\n",
       "  '2016-10-05': 0.81,\n",
       "  '2016-10-06': 0.04,\n",
       "  '2016-10-07': 0.01,\n",
       "  '2016-10-08': 0.04,\n",
       "  '2016-10-09': 0.0,\n",
       "  '2016-10-10': 0.0,\n",
       "  '2016-10-11': 0.35,\n",
       "  '2016-10-12': 0.02,\n",
       "  '2016-10-13': 0.06,\n",
       "  '2016-10-14': 0.0,\n",
       "  '2016-10-15': 0.33,\n",
       "  '2016-10-16': 0.0,\n",
       "  '2016-10-17': 0.38,\n",
       "  '2016-10-18': 0.48,\n",
       "  '2016-10-19': 0.0,\n",
       "  '2016-10-20': 1.0,\n",
       "  '2016-10-21': 0.09,\n",
       "  '2016-10-22': 1.37,\n",
       "  '2016-10-23': 0.24,\n",
       "  '2016-10-24': 0.7,\n",
       "  '2016-10-25': 0.4,\n",
       "  '2016-10-26': 0.0,\n",
       "  '2016-10-27': 1.25,\n",
       "  '2016-10-28': 0.37,\n",
       "  '2016-10-29': 0.25,\n",
       "  '2016-10-30': 0.95,\n",
       "  '2016-10-31': 1.35,\n",
       "  '2016-11-01': 0.09,\n",
       "  '2016-11-02': 0.04,\n",
       "  '2016-11-03': 0.02,\n",
       "  '2016-11-04': 0.06,\n",
       "  '2016-11-05': 0.38,\n",
       "  '2016-11-06': 0.05,\n",
       "  '2016-11-07': 0.05,\n",
       "  '2016-11-08': 0.53,\n",
       "  '2016-11-09': 0.04,\n",
       "  '2016-11-10': 0.01,\n",
       "  '2016-11-11': 0.0,\n",
       "  '2016-11-12': 0.0,\n",
       "  '2016-11-13': 0.0,\n",
       "  '2016-11-14': 0.02,\n",
       "  '2016-11-15': 0.05,\n",
       "  '2016-11-16': 0.91,\n",
       "  '2016-11-17': 0.02,\n",
       "  '2016-11-18': 0.0,\n",
       "  '2016-11-19': 0.11,\n",
       "  '2016-11-20': nan,\n",
       "  '2016-11-21': 2.87,\n",
       "  '2016-11-22': 2.11,\n",
       "  '2016-11-23': 0.22,\n",
       "  '2016-11-24': 0.72,\n",
       "  '2016-11-25': 1.03,\n",
       "  '2016-11-26': 0.3,\n",
       "  '2016-11-27': 0.29,\n",
       "  '2016-11-28': 0.69,\n",
       "  '2016-11-29': 0.2,\n",
       "  '2016-11-30': 0.79,\n",
       "  '2016-12-01': 0.72,\n",
       "  '2016-12-02': 1.27,\n",
       "  '2016-12-03': 1.62,\n",
       "  '2016-12-04': 0.31,\n",
       "  '2016-12-05': 1.6,\n",
       "  '2016-12-06': 0.0,\n",
       "  '2016-12-07': 0.02,\n",
       "  '2016-12-08': 0.03,\n",
       "  '2016-12-09': 0.42,\n",
       "  '2016-12-10': 0.04,\n",
       "  '2016-12-11': 0.13,\n",
       "  '2016-12-12': 0.01,\n",
       "  '2016-12-13': 0.09,\n",
       "  '2016-12-14': 0.33,\n",
       "  '2016-12-15': 0.03,\n",
       "  '2016-12-16': 0.0,\n",
       "  '2016-12-17': 0.07,\n",
       "  '2016-12-18': nan,\n",
       "  '2016-12-19': 0.15,\n",
       "  '2016-12-20': 0.0,\n",
       "  '2016-12-21': 0.55,\n",
       "  '2016-12-22': 1.24,\n",
       "  '2016-12-23': 0.83,\n",
       "  '2016-12-24': 1.08,\n",
       "  '2016-12-25': 0.38,\n",
       "  '2016-12-26': 1.48,\n",
       "  '2016-12-27': 0.14,\n",
       "  '2016-12-28': 0.14,\n",
       "  '2016-12-29': 1.03,\n",
       "  '2016-12-30': 2.37,\n",
       "  '2016-12-31': 0.9,\n",
       "  '2017-01-01': 0.03,\n",
       "  '2017-01-02': 0.0,\n",
       "  '2017-01-03': 0.0,\n",
       "  '2017-01-04': 0.0,\n",
       "  '2017-01-05': 0.47,\n",
       "  '2017-01-06': 0.1,\n",
       "  '2017-01-07': 0.0,\n",
       "  '2017-01-08': 0.03,\n",
       "  '2017-01-09': 0.0,\n",
       "  '2017-01-10': 0.0,\n",
       "  '2017-01-11': 0.0,\n",
       "  '2017-01-12': 0.0,\n",
       "  '2017-01-13': 0.0,\n",
       "  '2017-01-14': 0.0,\n",
       "  '2017-01-15': 0.01,\n",
       "  '2017-01-16': 0.0,\n",
       "  '2017-01-17': 0.0,\n",
       "  '2017-01-18': 0.07,\n",
       "  '2017-01-19': 0.0,\n",
       "  '2017-01-20': 0.0,\n",
       "  '2017-01-21': 0.08,\n",
       "  '2017-01-22': 0.72,\n",
       "  '2017-01-23': 0.85,\n",
       "  '2017-01-24': 1.85,\n",
       "  '2017-01-25': 2.64,\n",
       "  '2017-01-26': 0.1,\n",
       "  '2017-01-27': 0.03,\n",
       "  '2017-01-28': 0.0,\n",
       "  '2017-01-29': 0.55,\n",
       "  '2017-01-30': 0.0,\n",
       "  '2017-01-31': 0.0,\n",
       "  '2017-02-01': 0.0,\n",
       "  '2017-02-02': 0.0,\n",
       "  '2017-02-03': 0.0,\n",
       "  '2017-02-04': nan,\n",
       "  '2017-02-05': 0.0,\n",
       "  '2017-02-06': 0.0,\n",
       "  '2017-02-07': 1.79,\n",
       "  '2017-02-08': 0.0,\n",
       "  '2017-02-09': 0.0,\n",
       "  '2017-02-10': 0.0,\n",
       "  '2017-02-11': 0.73,\n",
       "  '2017-02-12': 1.83,\n",
       "  '2017-02-13': 0.0,\n",
       "  '2017-02-14': 0.01,\n",
       "  '2017-02-15': 0.07,\n",
       "  '2017-02-16': 0.13,\n",
       "  '2017-02-17': 0.13,\n",
       "  '2017-02-18': nan,\n",
       "  '2017-02-19': 0.1,\n",
       "  '2017-02-20': 0.0,\n",
       "  '2017-02-21': 0.07,\n",
       "  '2017-02-22': 0.32,\n",
       "  '2017-02-23': 0.0,\n",
       "  '2017-02-24': 0.0,\n",
       "  '2017-02-25': 0.12,\n",
       "  '2017-02-26': 0.0,\n",
       "  '2017-02-27': 0.0,\n",
       "  '2017-02-28': 0.58,\n",
       "  '2017-03-01': 2.0,\n",
       "  '2017-03-02': 0.58,\n",
       "  '2017-03-03': 0.56,\n",
       "  '2017-03-04': 0.0,\n",
       "  '2017-03-05': 0.35,\n",
       "  '2017-03-06': 0.0,\n",
       "  '2017-03-07': 0.0,\n",
       "  '2017-03-08': 0.0,\n",
       "  '2017-03-09': 0.01,\n",
       "  '2017-03-10': 0.0,\n",
       "  '2017-03-11': 0.0,\n",
       "  '2017-03-12': 0.0,\n",
       "  '2017-03-13': nan,\n",
       "  '2017-03-14': 0.0,\n",
       "  '2017-03-15': 0.0,\n",
       "  '2017-03-16': 0.0,\n",
       "  '2017-03-17': 0.12,\n",
       "  '2017-03-18': nan,\n",
       "  '2017-03-19': 0.0,\n",
       "  '2017-03-20': 0.0,\n",
       "  '2017-03-21': 0.0,\n",
       "  '2017-03-22': 0.0,\n",
       "  '2017-03-23': 0.03,\n",
       "  '2017-03-24': 0.17,\n",
       "  '2017-03-25': 0.48,\n",
       "  '2017-03-26': 0.0,\n",
       "  '2017-03-27': 0.0,\n",
       "  '2017-03-28': 0.68,\n",
       "  '2017-03-29': 0.07,\n",
       "  '2017-03-30': 0.04,\n",
       "  '2017-03-31': nan,\n",
       "  '2017-04-01': 0.2,\n",
       "  '2017-04-02': 0.0,\n",
       "  '2017-04-03': 0.23,\n",
       "  '2017-04-04': 0.02,\n",
       "  '2017-04-05': 0.45,\n",
       "  '2017-04-06': 0.0,\n",
       "  '2017-04-07': 0.0,\n",
       "  '2017-04-08': nan,\n",
       "  '2017-04-09': 0.0,\n",
       "  '2017-04-10': 0.0,\n",
       "  '2017-04-11': 0.25,\n",
       "  '2017-04-12': 0.65,\n",
       "  '2017-04-13': 0.23,\n",
       "  '2017-04-14': 2.82,\n",
       "  '2017-04-15': 0.9,\n",
       "  '2017-04-16': 0.11,\n",
       "  '2017-04-17': 1.3,\n",
       "  '2017-04-18': 0.98,\n",
       "  '2017-04-19': 0.14,\n",
       "  '2017-04-20': 0.0,\n",
       "  '2017-04-21': 1.84,\n",
       "  '2017-04-22': 1.35,\n",
       "  '2017-04-23': 0.35,\n",
       "  '2017-04-24': 0.05,\n",
       "  '2017-04-25': 0.0,\n",
       "  '2017-04-26': 0.22,\n",
       "  '2017-04-27': 0.11,\n",
       "  '2017-04-28': 0.79,\n",
       "  '2017-04-29': 0.0,\n",
       "  '2017-04-30': 0.8,\n",
       "  '2017-05-01': 0.25,\n",
       "  '2017-05-02': 0.0,\n",
       "  '2017-05-03': 0.01,\n",
       "  '2017-05-04': nan,\n",
       "  '2017-05-05': 0.1,\n",
       "  '2017-05-06': 0.0,\n",
       "  '2017-05-07': 0.03,\n",
       "  '2017-05-08': 1.11,\n",
       "  '2017-05-10': 0.55,\n",
       "  '2017-05-11': 0.44,\n",
       "  '2017-05-12': 0.1,\n",
       "  '2017-05-13': 0.1,\n",
       "  '2017-05-14': 1.0,\n",
       "  '2017-05-15': 0.6,\n",
       "  '2017-05-16': 0.3,\n",
       "  '2017-05-17': 0.06,\n",
       "  '2017-05-18': 0.0,\n",
       "  '2017-05-19': 0.01,\n",
       "  '2017-05-20': nan,\n",
       "  '2017-05-21': 0.0,\n",
       "  '2017-05-22': 0.3,\n",
       "  '2017-05-23': 0.44,\n",
       "  '2017-05-24': 2.17,\n",
       "  '2017-05-25': 0.88,\n",
       "  '2017-05-27': 0.5,\n",
       "  '2017-05-28': 0.0,\n",
       "  '2017-05-29': 0.4,\n",
       "  '2017-05-30': nan,\n",
       "  '2017-05-31': 0.25,\n",
       "  '2017-06-01': 0.01,\n",
       "  '2017-06-02': 0.09,\n",
       "  '2017-06-03': nan,\n",
       "  '2017-06-04': 0.82,\n",
       "  '2017-06-05': 0.01,\n",
       "  '2017-06-06': 0.0,\n",
       "  '2017-06-07': 0.01,\n",
       "  '2017-06-08': 0.0,\n",
       "  '2017-06-09': 0.02,\n",
       "  '2017-06-10': nan,\n",
       "  '2017-06-11': 0.7,\n",
       "  '2017-06-12': 0.81,\n",
       "  '2017-06-13': 0.65,\n",
       "  '2017-06-14': 0.81,\n",
       "  '2017-06-15': 1.69,\n",
       "  '2017-06-16': 0.1,\n",
       "  '2017-06-17': 0.1,\n",
       "  '2017-06-18': 0.7,\n",
       "  '2017-06-19': 0.4,\n",
       "  '2017-06-20': 0.31,\n",
       "  '2017-06-21': 0.3,\n",
       "  '2017-06-22': 0.28,\n",
       "  '2017-06-23': 0.5,\n",
       "  '2017-06-24': 0.22,\n",
       "  '2017-06-25': 0.5,\n",
       "  '2017-06-26': 0.02,\n",
       "  '2017-06-27': 0.1,\n",
       "  '2017-06-28': 0.02,\n",
       "  '2017-06-29': 0.04,\n",
       "  '2017-06-30': 0.2,\n",
       "  '2017-07-01': 0.1,\n",
       "  '2017-07-02': 0.5,\n",
       "  '2017-07-03': 0.4,\n",
       "  '2017-07-04': 0.0,\n",
       "  '2017-07-05': 0.0,\n",
       "  '2017-07-06': 0.02,\n",
       "  '2017-07-07': 0.3,\n",
       "  '2017-07-08': 0.02,\n",
       "  '2017-07-09': 0.0,\n",
       "  '2017-07-10': 0.02,\n",
       "  '2017-07-11': 0.0,\n",
       "  '2017-07-12': 0.05,\n",
       "  '2017-07-13': 0.68,\n",
       "  '2017-07-14': 0.68,\n",
       "  '2017-07-15': 0.1,\n",
       "  '2017-07-16': 0.5,\n",
       "  '2017-07-17': 0.39,\n",
       "  '2017-07-18': 2.4,\n",
       "  '2017-07-20': 0.7,\n",
       "  '2017-07-21': 0.1,\n",
       "  '2017-07-22': 4.0,\n",
       "  '2017-07-23': 0.8,\n",
       "  '2017-07-24': 0.84,\n",
       "  '2017-07-25': 0.3,\n",
       "  '2017-07-26': 0.3,\n",
       "  '2017-07-27': 0.0,\n",
       "  '2017-07-28': 0.4,\n",
       "  '2017-07-29': 0.3,\n",
       "  '2017-07-30': 0.3,\n",
       "  '2017-07-31': 0.0,\n",
       "  '2017-08-01': nan,\n",
       "  '2017-08-02': 0.25,\n",
       "  '2017-08-03': 0.06,\n",
       "  '2017-08-04': 0.0,\n",
       "  '2017-08-05': nan,\n",
       "  '2017-08-06': nan,\n",
       "  '2017-08-07': 0.05,\n",
       "  '2017-08-08': 0.34,\n",
       "  '2017-08-09': 0.15,\n",
       "  '2017-08-10': 0.07,\n",
       "  '2017-08-11': nan,\n",
       "  '2017-08-12': 0.14,\n",
       "  '2017-08-13': nan,\n",
       "  '2017-08-14': 0.22,\n",
       "  '2017-08-15': 0.42,\n",
       "  '2017-08-18': nan,\n",
       "  '2017-08-19': 0.09,\n",
       "  '2017-08-20': nan,\n",
       "  '2017-08-21': 0.56,\n",
       "  '2017-08-22': 0.5,\n",
       "  '2017-08-23': 0.45,\n",
       "  '2017-05-09': 0.23,\n",
       "  '2017-05-26': 0.0,\n",
       "  '2017-07-19': 0.27,\n",
       "  '2017-08-16': 0.42,\n",
       "  '2017-08-17': 0.13}}"
      ]
     },
     "execution_count": 732,
     "metadata": {},
     "output_type": "execute_result"
    }
   ],
   "source": [
    "data_index.to_dict()"
   ]
  },
  {
   "cell_type": "code",
   "execution_count": 735,
   "metadata": {},
   "outputs": [
    {
     "data": {
      "text/html": [
       "<div>\n",
       "<style scoped>\n",
       "    .dataframe tbody tr th:only-of-type {\n",
       "        vertical-align: middle;\n",
       "    }\n",
       "\n",
       "    .dataframe tbody tr th {\n",
       "        vertical-align: top;\n",
       "    }\n",
       "\n",
       "    .dataframe thead th {\n",
       "        text-align: right;\n",
       "    }\n",
       "</style>\n",
       "<table border=\"1\" class=\"dataframe\">\n",
       "  <thead>\n",
       "    <tr style=\"text-align: right;\">\n",
       "      <th></th>\n",
       "      <th>prcp</th>\n",
       "    </tr>\n",
       "    <tr>\n",
       "      <th>date</th>\n",
       "      <th></th>\n",
       "    </tr>\n",
       "  </thead>\n",
       "  <tbody>\n",
       "    <tr>\n",
       "      <th>2016-08-23</th>\n",
       "      <td>2.71</td>\n",
       "    </tr>\n",
       "    <tr>\n",
       "      <th>2016-08-24</th>\n",
       "      <td>9.33</td>\n",
       "    </tr>\n",
       "    <tr>\n",
       "      <th>2016-08-25</th>\n",
       "      <td>0.54</td>\n",
       "    </tr>\n",
       "    <tr>\n",
       "      <th>2016-08-26</th>\n",
       "      <td>0.10</td>\n",
       "    </tr>\n",
       "    <tr>\n",
       "      <th>2016-08-27</th>\n",
       "      <td>0.32</td>\n",
       "    </tr>\n",
       "  </tbody>\n",
       "</table>\n",
       "</div>"
      ],
      "text/plain": [
       "            prcp\n",
       "date            \n",
       "2016-08-23  2.71\n",
       "2016-08-24  9.33\n",
       "2016-08-25  0.54\n",
       "2016-08-26  0.10\n",
       "2016-08-27  0.32"
      ]
     },
     "execution_count": 735,
     "metadata": {},
     "output_type": "execute_result"
    }
   ],
   "source": [
    "# 4.sort the dataframe by date, and sum \"prcp\" data == showcasing total amount of precipitation per day\n",
    "date_index.groupby([\"date\"]).sum().head()"
   ]
  },
  {
   "cell_type": "code",
   "execution_count": 293,
   "metadata": {
    "scrolled": false
   },
   "outputs": [
    {
     "data": {
      "image/png": "[encoded data removed]",
      "text/plain": [
       "<Figure size 432x288 with 1 Axes>"
      ]
     },
     "metadata": {
      "needs_background": "light"
     },
     "output_type": "display_data"
    }
   ],
   "source": [
    "# 5.use Pandas Plotting with Matplotlib to plot the data \n",
    "plot_prcp = data_index.plot()\n",
    "plt.xticks([])\n",
    "plt.xlabel(\"date\")\n",
    "plt.legend(loc=0)\n",
    "plt.show(plot_prcp)"
   ]
  },
  {
   "cell_type": "code",
   "execution_count": 736,
   "metadata": {},
   "outputs": [
    {
     "data": {
      "text/html": [
       "<div>\n",
       "<style scoped>\n",
       "    .dataframe tbody tr th:only-of-type {\n",
       "        vertical-align: middle;\n",
       "    }\n",
       "\n",
       "    .dataframe tbody tr th {\n",
       "        vertical-align: top;\n",
       "    }\n",
       "\n",
       "    .dataframe thead th {\n",
       "        text-align: right;\n",
       "    }\n",
       "</style>\n",
       "<table border=\"1\" class=\"dataframe\">\n",
       "  <thead>\n",
       "    <tr style=\"text-align: right;\">\n",
       "      <th></th>\n",
       "      <th>prcp</th>\n",
       "    </tr>\n",
       "  </thead>\n",
       "  <tbody>\n",
       "    <tr>\n",
       "      <th>count</th>\n",
       "      <td>2021.000000</td>\n",
       "    </tr>\n",
       "    <tr>\n",
       "      <th>mean</th>\n",
       "      <td>0.177279</td>\n",
       "    </tr>\n",
       "    <tr>\n",
       "      <th>std</th>\n",
       "      <td>0.461190</td>\n",
       "    </tr>\n",
       "    <tr>\n",
       "      <th>min</th>\n",
       "      <td>0.000000</td>\n",
       "    </tr>\n",
       "    <tr>\n",
       "      <th>25%</th>\n",
       "      <td>0.000000</td>\n",
       "    </tr>\n",
       "    <tr>\n",
       "      <th>50%</th>\n",
       "      <td>0.020000</td>\n",
       "    </tr>\n",
       "    <tr>\n",
       "      <th>75%</th>\n",
       "      <td>0.130000</td>\n",
       "    </tr>\n",
       "    <tr>\n",
       "      <th>max</th>\n",
       "      <td>6.700000</td>\n",
       "    </tr>\n",
       "  </tbody>\n",
       "</table>\n",
       "</div>"
      ],
      "text/plain": [
       "              prcp\n",
       "count  2021.000000\n",
       "mean      0.177279\n",
       "std       0.461190\n",
       "min       0.000000\n",
       "25%       0.000000\n",
       "50%       0.020000\n",
       "75%       0.130000\n",
       "max       6.700000"
      ]
     },
     "execution_count": 736,
     "metadata": {},
     "output_type": "execute_result"
    }
   ],
   "source": [
    "# 6.summary statistics for the precipitation data\n",
    "date_index.describe()"
   ]
  },
  {
   "cell_type": "code",
   "execution_count": 737,
   "metadata": {},
   "outputs": [
    {
     "data": {
      "text/plain": [
       "9"
      ]
     },
     "execution_count": 737,
     "metadata": {},
     "output_type": "execute_result"
    }
   ],
   "source": [
    "# 7.query shows how many stations are available in this dataset\n",
    "session.query(Station).count()"
   ]
  },
  {
   "cell_type": "code",
   "execution_count": 738,
   "metadata": {},
   "outputs": [],
   "source": [
    "from sqlalchemy.sql import func\n",
    "from sqlalchemy import extract"
   ]
  },
  {
   "cell_type": "code",
   "execution_count": 739,
   "metadata": {},
   "outputs": [
    {
     "name": "stderr",
     "output_type": "stream",
     "text": [
      "C:\\Users\\MARIA JOSE\\Anaconda3\\lib\\site-packages\\sqlalchemy\\sql\\compiler.py:643: SAWarning: Can't resolve label reference 'total DESC'; converting to text() (this warning may be suppressed after 10 occurrences)\n",
      "  util.ellipses_string(element.element))\n"
     ]
    },
    {
     "data": {
      "text/plain": [
       "[('USC00519281', 2772),\n",
       " ('USC00519397', 2724),\n",
       " ('USC00513117', 2709),\n",
       " ('USC00519523', 2669),\n",
       " ('USC00516128', 2612),\n",
       " ('USC00514830', 2202),\n",
       " ('USC00511918', 1979),\n",
       " ('USC00517948', 1372),\n",
       " ('USC00518838', 511)]"
      ]
     },
     "execution_count": 739,
     "metadata": {},
     "output_type": "execute_result"
    }
   ],
   "source": [
    "# 8.list most active stations and the counts in descending order\n",
    "session.query(Measurement.station, func.count(Measurement.station).label('total')).group_by(Measurement.station).order_by('total DESC').all()"
   ]
  },
  {
   "cell_type": "code",
   "execution_count": 740,
   "metadata": {},
   "outputs": [
    {
     "data": {
      "text/plain": [
       "[(54.0, 85.0, 71.66378066378067)]"
      ]
     },
     "execution_count": 740,
     "metadata": {},
     "output_type": "execute_result"
    }
   ],
   "source": [
    "# 9. calculate the low temp,high temp, and avg temp using most active station\n",
    "session.query(func.min(Measurement.tobs), func.max(Measurement.tobs), func.avg(Measurement.tobs)).filter(Measurement.station == 'USC00519281').all()"
   ]
  },
  {
   "cell_type": "code",
   "execution_count": 741,
   "metadata": {},
   "outputs": [],
   "source": [
    "# Choose the station with the highest number of temperature observations. \n",
    "\n",
    "# 10.query the last 12 months of temperature observation data for this station\n",
    "#  filter on table, col='USC00519281', and chosen date, order by number of tol ASC\n",
    "pstation = session.query(Measurement.tobs, Measurement.date).filter(Measurement.station == 'USC00519281').filter(Measurement.date <= '2017-08-23').\\\n",
    "        filter(Measurement.date >= '2016-08-23').order_by(\"tobs\")"
   ]
  },
  {
   "cell_type": "code",
   "execution_count": 742,
   "metadata": {},
   "outputs": [
    {
     "data": {
      "text/html": [
       "<div>\n",
       "<style scoped>\n",
       "    .dataframe tbody tr th:only-of-type {\n",
       "        vertical-align: middle;\n",
       "    }\n",
       "\n",
       "    .dataframe tbody tr th {\n",
       "        vertical-align: top;\n",
       "    }\n",
       "\n",
       "    .dataframe thead th {\n",
       "        text-align: right;\n",
       "    }\n",
       "</style>\n",
       "<table border=\"1\" class=\"dataframe\">\n",
       "  <thead>\n",
       "    <tr style=\"text-align: right;\">\n",
       "      <th></th>\n",
       "      <th>tobs</th>\n",
       "      <th>date</th>\n",
       "    </tr>\n",
       "  </thead>\n",
       "  <tbody>\n",
       "    <tr>\n",
       "      <th>0</th>\n",
       "      <td>59.0</td>\n",
       "      <td>2017-02-02</td>\n",
       "    </tr>\n",
       "    <tr>\n",
       "      <th>1</th>\n",
       "      <td>59.0</td>\n",
       "      <td>2017-02-08</td>\n",
       "    </tr>\n",
       "    <tr>\n",
       "      <th>2</th>\n",
       "      <td>59.0</td>\n",
       "      <td>2017-02-09</td>\n",
       "    </tr>\n",
       "    <tr>\n",
       "      <th>3</th>\n",
       "      <td>60.0</td>\n",
       "      <td>2017-02-03</td>\n",
       "    </tr>\n",
       "    <tr>\n",
       "      <th>4</th>\n",
       "      <td>60.0</td>\n",
       "      <td>2017-04-30</td>\n",
       "    </tr>\n",
       "  </tbody>\n",
       "</table>\n",
       "</div>"
      ],
      "text/plain": [
       "   tobs        date\n",
       "0  59.0  2017-02-02\n",
       "1  59.0  2017-02-08\n",
       "2  59.0  2017-02-09\n",
       "3  60.0  2017-02-03\n",
       "4  60.0  2017-04-30"
      ]
     },
     "execution_count": 742,
     "metadata": {},
     "output_type": "execute_result"
    }
   ],
   "source": [
    "# 10b.save query as Df  \n",
    "popstationdf = pd.read_sql_query(pstation.statement, session.bind)\n",
    "popstationdf.head()"
   ]
  },
  {
   "cell_type": "code",
   "execution_count": 743,
   "metadata": {
    "scrolled": false
   },
   "outputs": [
    {
     "data": {
      "text/plain": [
       "tobs\n",
       "59.0     3\n",
       "60.0     2\n",
       "61.0     1\n",
       "62.0     6\n",
       "63.0     4\n",
       "64.0     3\n",
       "65.0     7\n",
       "66.0     5\n",
       "67.0    15\n",
       "68.0    12\n",
       "69.0    19\n",
       "70.0    22\n",
       "71.0    18\n",
       "72.0    22\n",
       "73.0    18\n",
       "74.0    39\n",
       "75.0    33\n",
       "76.0    33\n",
       "77.0    31\n",
       "78.0    22\n",
       "79.0    18\n",
       "80.0    11\n",
       "81.0     4\n",
       "82.0     3\n",
       "83.0     1\n",
       "Name: tobs, dtype: int64"
      ]
     },
     "execution_count": 743,
     "metadata": {},
     "output_type": "execute_result"
    }
   ],
   "source": [
    "# 10c.groupby \"tobs\" and count # of \"tobs\" \n",
    "popst_group = popstationdf.groupby([\"tobs\"])[\"tobs\"].count()\n",
    "popst_group"
   ]
  },
  {
   "cell_type": "code",
   "execution_count": 797,
   "metadata": {},
   "outputs": [
    {
     "data": {
      "text/plain": [
       "count    25.00000\n",
       "mean     14.08000\n",
       "std      11.46342\n",
       "min       1.00000\n",
       "25%       4.00000\n",
       "50%      12.00000\n",
       "75%      22.00000\n",
       "max      39.00000\n",
       "Name: tobs, dtype: float64"
      ]
     },
     "execution_count": 797,
     "metadata": {},
     "output_type": "execute_result"
    }
   ],
   "source": [
    "# 10d. generate descriptive statistics summarizing the central tendency,\n",
    "#      dispersion and shape of a dataset’s distribution, excluding NaN values\n",
    "popstations_d = popst_group.describe()\n",
    "popstations_d"
   ]
  },
  {
   "cell_type": "code",
   "execution_count": 806,
   "metadata": {},
   "outputs": [
    {
     "data": {
      "image/png": "[encoded data removed]",
      "text/plain": [
       "<Figure size 432x288 with 1 Axes>"
      ]
     },
     "metadata": {},
     "output_type": "display_data"
    }
   ],
   "source": [
    "# plot histogram, bins=12\n",
    "temp_hist = popstations_d.hist(bins=12)\n",
    "plt.ylabel(\"Frequency\")\n",
    "\n",
    "plt.show(temp_hist)\n",
    "\n",
    "#NOTE####################################################################################################\n",
    "#On Monday this table looked like the histogram in the hw. I tried to debug it, unsuccessful. "
   ]
  },
  {
   "cell_type": "code",
   "execution_count": 755,
   "metadata": {},
   "outputs": [],
   "source": [
    "# This function called `calc_temps` will accept start date and end date in the format '%Y-%m-%d' \n",
    "# and return the minimum, average, and maximum temperatures for that range of dates\n",
    "def calc_temps(start_date, end_date):\n",
    "    \"\"\"TMIN, TAVG, and TMAX for a list of dates.\n",
    "    \n",
    "    Args:\n",
    "        start_date (string): A date string in the format %Y-%m-%d\n",
    "        end_date (string): A date string in the format %Y-%m-%d\n",
    "        \n",
    "    Returns:\n",
    "        TMIN, TAVE, and TMAX\n",
    "    \"\"\"\n",
    "    \n",
    "    return session.query(func.min(Measurement.tobs), func.avg(Measurement.tobs), func.max(Measurement.tobs)).\\\n",
    "        filter(Measurement.date >= start_date).filter(Measurement.date <= end_date).all()\n",
    "\n",
    "# function usage example\n",
    "#print(calc_temps('2012-02-28', '2012-03-05'))"
   ]
  },
  {
   "cell_type": "code",
   "execution_count": 780,
   "metadata": {},
   "outputs": [
    {
     "name": "stdout",
     "output_type": "stream",
     "text": [
      "[(62.0, 70.96551724137932, 78.0)]\n"
     ]
    }
   ],
   "source": [
    "# 12. calculate MY TRIP's tmin, tavg, and tmax \n",
    "mytrip = print(calc_temps('2015-12-27', '2016-01-10'))\n",
    "mytrip"
   ]
  },
  {
   "cell_type": "code",
   "execution_count": 781,
   "metadata": {},
   "outputs": [],
   "source": [
    "from matplotlib.pyplot import figure"
   ]
  },
  {
   "cell_type": "code",
   "execution_count": 782,
   "metadata": {},
   "outputs": [
    {
     "data": {
      "image/png": "[encoded data removed]",
      "text/plain": [
       "<Figure size 180x540 with 1 Axes>"
      ]
     },
     "metadata": {},
     "output_type": "display_data"
    }
   ],
   "source": [
    "# 13. plot the results from your previous query as a bar chart. \n",
    "#     Use \"Trip Avg Temp\" as your Title\n",
    "#     Use the average temperature for the y value\n",
    "#     Use the peak-to-peak (tmax-tmin) value as the y error bar (yerr)\n",
    "\n",
    "mean = 70.96\n",
    "peak2peak = 16\n",
    "ind = 1    # the x locations for the groups\n",
    "\n",
    "plt.figure(figsize=(2.5, 7.5))\n",
    "plt.xticks([])\n",
    "\n",
    "plt.title(\"Trip Avg Temp\")\n",
    "plt.ylabel(\"Temp (F)\")\n",
    "\n",
    "mytrip_temp = plt.bar(ind, mean, yerr=peak2peak, color='lightcoral', ecolor=\"yellow\", align=\"center\")"
   ]
  },
  {
   "cell_type": "markdown",
   "metadata": {},
   "source": [
    "# Stations\n",
    "\n",
    "Return a JSON list of stations from the datase"
   ]
  },
  {
   "cell_type": "code",
   "execution_count": 783,
   "metadata": {},
   "outputs": [],
   "source": [
    "stations_list=session.query(Station.station)\n",
    "stations_df = pd.read_sql_query(stations_list.statement, session.bind)"
   ]
  },
  {
   "cell_type": "code",
   "execution_count": 784,
   "metadata": {},
   "outputs": [
    {
     "data": {
      "text/plain": [
       "{'station': {0: 'USC00519397',\n",
       "  1: 'USC00513117',\n",
       "  2: 'USC00514830',\n",
       "  3: 'USC00517948',\n",
       "  4: 'USC00518838',\n",
       "  5: 'USC00519523',\n",
       "  6: 'USC00519281',\n",
       "  7: 'USC00511918',\n",
       "  8: 'USC00516128'}}"
      ]
     },
     "execution_count": 784,
     "metadata": {},
     "output_type": "execute_result"
    }
   ],
   "source": [
    "stations_df.to_dict()"
   ]
  },
  {
   "cell_type": "markdown",
   "metadata": {},
   "source": [
    "## Calculate Rainfall per Weather Station"
   ]
  },
  {
   "cell_type": "code",
   "execution_count": 785,
   "metadata": {},
   "outputs": [],
   "source": [
    "# 14. calculate the rainfall per weather station for your trip dates using the previous year's matching dates.\n",
    "alist = session.query(Measurement.station, func.sum(Measurement.prcp)).filter(Measurement.date <= '2016-01-10').\\\n",
    "        filter(Measurement.date >= '2015-12-27').group_by(Measurement.station)"
   ]
  },
  {
   "cell_type": "code",
   "execution_count": 786,
   "metadata": {},
   "outputs": [],
   "source": [
    "# 14b. use function to pull out all data correspondent to the stations from the list of \"station_results\", in a form of a tupple \n",
    "def rainfall_pstation(name):\n",
    "    \"\"\"rainfall_pstation.\n",
    "    \n",
    "    Args:\n",
    "        name (str): Name of station string in the format 'USC00519397'\n",
    "        \n",
    "    Returns:\n",
    "        A list of tuples containing each result correspondant to each column in table \"Stations\"\n",
    "    \n",
    "    \"\"\"\n",
    "    sel = [Station.station, Station.name, Station.latitude, Station.longitude, Station.elevation]\n",
    "    return session.query(*sel).filter(Station.station == name).first()"
   ]
  },
  {
   "cell_type": "code",
   "execution_count": 787,
   "metadata": {},
   "outputs": [],
   "source": [
    "# 14c.looped through the list filtered by station for my trip dates\n",
    "stations_results = []\n",
    "station_list = ['USC00513117','USC00514830', 'USC00516128', 'USC00517948', 'USC00519281', 'USC00519397','USC00519523']\n",
    "\n",
    "for one in station_list:\n",
    "    r=rainfall_pstation(one)\n",
    "    stations_results.append(r)\n",
    "    \n",
    "# show results \n",
    "#stations_results"
   ]
  },
  {
   "cell_type": "code",
   "execution_count": 788,
   "metadata": {},
   "outputs": [],
   "source": [
    "# 14d. create a df of station_results\n",
    "stationinfo_df = pd.DataFrame(stations_results)\n",
    "# create a df of rainfall results\n",
    "rainfallinfo_df = pd.read_sql_query(alist.statement, session.bind)"
   ]
  },
  {
   "cell_type": "code",
   "execution_count": 789,
   "metadata": {},
   "outputs": [
    {
     "data": {
      "text/html": [
       "<div>\n",
       "<style scoped>\n",
       "    .dataframe tbody tr th:only-of-type {\n",
       "        vertical-align: middle;\n",
       "    }\n",
       "\n",
       "    .dataframe tbody tr th {\n",
       "        vertical-align: top;\n",
       "    }\n",
       "\n",
       "    .dataframe thead th {\n",
       "        text-align: right;\n",
       "    }\n",
       "</style>\n",
       "<table border=\"1\" class=\"dataframe\">\n",
       "  <thead>\n",
       "    <tr style=\"text-align: right;\">\n",
       "      <th></th>\n",
       "      <th>station</th>\n",
       "      <th>name</th>\n",
       "      <th>latitude</th>\n",
       "      <th>longitude</th>\n",
       "      <th>elevation</th>\n",
       "      <th>sum_1</th>\n",
       "    </tr>\n",
       "  </thead>\n",
       "  <tbody>\n",
       "    <tr>\n",
       "      <th>2</th>\n",
       "      <td>USC00516128</td>\n",
       "      <td>MANOA LYON ARBO 785.2, HI US</td>\n",
       "      <td>21.33310</td>\n",
       "      <td>-157.80250</td>\n",
       "      <td>152.4</td>\n",
       "      <td>5.28</td>\n",
       "    </tr>\n",
       "    <tr>\n",
       "      <th>4</th>\n",
       "      <td>USC00519281</td>\n",
       "      <td>WAIHEE 837.5, HI US</td>\n",
       "      <td>21.45167</td>\n",
       "      <td>-157.84889</td>\n",
       "      <td>32.9</td>\n",
       "      <td>2.54</td>\n",
       "    </tr>\n",
       "    <tr>\n",
       "      <th>0</th>\n",
       "      <td>USC00513117</td>\n",
       "      <td>KANEOHE 838.1, HI US</td>\n",
       "      <td>21.42340</td>\n",
       "      <td>-157.80150</td>\n",
       "      <td>14.6</td>\n",
       "      <td>1.42</td>\n",
       "    </tr>\n",
       "    <tr>\n",
       "      <th>5</th>\n",
       "      <td>USC00519397</td>\n",
       "      <td>WAIKIKI 717.2, HI US</td>\n",
       "      <td>21.27160</td>\n",
       "      <td>-157.81680</td>\n",
       "      <td>3.0</td>\n",
       "      <td>0.67</td>\n",
       "    </tr>\n",
       "    <tr>\n",
       "      <th>6</th>\n",
       "      <td>USC00519523</td>\n",
       "      <td>WAIMANALO EXPERIMENTAL FARM, HI US</td>\n",
       "      <td>21.33556</td>\n",
       "      <td>-157.71139</td>\n",
       "      <td>19.5</td>\n",
       "      <td>0.67</td>\n",
       "    </tr>\n",
       "    <tr>\n",
       "      <th>1</th>\n",
       "      <td>USC00514830</td>\n",
       "      <td>KUALOA RANCH HEADQUARTERS 886.9, HI US</td>\n",
       "      <td>21.52130</td>\n",
       "      <td>-157.83740</td>\n",
       "      <td>7.0</td>\n",
       "      <td>0.44</td>\n",
       "    </tr>\n",
       "    <tr>\n",
       "      <th>3</th>\n",
       "      <td>USC00517948</td>\n",
       "      <td>PEARL CITY, HI US</td>\n",
       "      <td>21.39340</td>\n",
       "      <td>-157.97510</td>\n",
       "      <td>11.9</td>\n",
       "      <td>NaN</td>\n",
       "    </tr>\n",
       "  </tbody>\n",
       "</table>\n",
       "</div>"
      ],
      "text/plain": [
       "       station                                    name  latitude  longitude  \\\n",
       "2  USC00516128            MANOA LYON ARBO 785.2, HI US  21.33310 -157.80250   \n",
       "4  USC00519281                     WAIHEE 837.5, HI US  21.45167 -157.84889   \n",
       "0  USC00513117                    KANEOHE 838.1, HI US  21.42340 -157.80150   \n",
       "5  USC00519397                    WAIKIKI 717.2, HI US  21.27160 -157.81680   \n",
       "6  USC00519523      WAIMANALO EXPERIMENTAL FARM, HI US  21.33556 -157.71139   \n",
       "1  USC00514830  KUALOA RANCH HEADQUARTERS 886.9, HI US  21.52130 -157.83740   \n",
       "3  USC00517948                       PEARL CITY, HI US  21.39340 -157.97510   \n",
       "\n",
       "   elevation  sum_1  \n",
       "2      152.4   5.28  \n",
       "4       32.9   2.54  \n",
       "0       14.6   1.42  \n",
       "5        3.0   0.67  \n",
       "6       19.5   0.67  \n",
       "1        7.0   0.44  \n",
       "3       11.9    NaN  "
      ]
     },
     "execution_count": 789,
     "metadata": {},
     "output_type": "execute_result"
    }
   ],
   "source": [
    "# 14e. Display Results:\n",
    "#      A.merge tables\n",
    "#      B.sort this in descending order by precipitation amount and list the station, name, latitude, longitude, and elevation\n",
    "pd.merge(stationinfo_df, rainfallinfo_df, on=\"station\", how=\"inner\").sort_values(by=[\"sum_1\"],ascending=False)"
   ]
  },
  {
   "cell_type": "code",
   "execution_count": null,
   "metadata": {},
   "outputs": [],
   "source": []
  },
  {
   "cell_type": "markdown",
   "metadata": {},
   "source": [
    "## Optional Challenge Assignment"
   ]
  },
  {
   "cell_type": "code",
   "execution_count": 779,
   "metadata": {},
   "outputs": [
    {
     "data": {
      "text/plain": [
       "[(65.0, 75.75510204081633, 82.0)]"
      ]
     },
     "execution_count": 779,
     "metadata": {},
     "output_type": "execute_result"
    }
   ],
   "source": [
    "# Create a query that will calculate the daily normals \n",
    "# (i.e. the averages for tmin, tmax, and tavg for all historic data matching a specific month and day)\n",
    "\n",
    "def daily_normals(date):\n",
    "    \"\"\"Daily Normals.\n",
    "    \n",
    "    Args:\n",
    "        date (str): A date string in the format '%m-%d'\n",
    "        \n",
    "    Returns:\n",
    "        A list of tuples containing the daily normals, tmin, tavg, and tmax\n",
    "    \n",
    "    \"\"\"\n",
    "    \n",
    "    sel = (func.min(Measurement.tobs), func.avg(Measurement.tobs), func.max(Measurement.tobs))\n",
    "    return session.query(*sel).filter(func.strftime(\"%m-%d\", Measurement.date) == date).all()\n",
    "\n",
    "\n",
    "daily_normals(\"10-12\")"
   ]
  },
  {
   "cell_type": "code",
   "execution_count": 790,
   "metadata": {},
   "outputs": [],
   "source": [
    "# Calculate the daily normals for your trip\n",
    "\n",
    "# A. created a for loop that runs through date_list, \n",
    "# B. pulls each \"day\" and plugs it in def daily_normals(),\n",
    "# C. appends each return of (min, avg, max temp) into list date_results\n",
    "\n",
    "date_results = []\n",
    "date_list = [\"12-27\", \"12-28\", \"12-29\", \"12-30\",\"12-31\", \"01-01\", \"01-02\", \"01-03\", \"01-04\", \"01-05\", \"01-06\", \"01-07\", \"01-08\", \"01-09\", \"01-12\"]\n",
    "\n",
    "for day in date_list:\n",
    "    abc=daily_normals(day)\n",
    "    date_results.append(abc)"
   ]
  },
  {
   "cell_type": "code",
   "execution_count": 791,
   "metadata": {},
   "outputs": [
    {
     "data": {
      "text/plain": [
       "[[(62.0, 71.91666666666667, 79.0)],\n",
       " [(62.0, 70.52083333333333, 77.0)],\n",
       " [(57.0, 70.29166666666667, 78.0)],\n",
       " [(63.0, 69.86363636363636, 76.0)],\n",
       " [(56.0, 68.27906976744185, 77.0)],\n",
       " [(62.0, 69.15384615384616, 77.0)],\n",
       " [(60.0, 69.39622641509433, 77.0)],\n",
       " [(62.0, 68.9090909090909, 77.0)],\n",
       " [(58.0, 70.0, 76.0)],\n",
       " [(56.0, 67.96428571428571, 76.0)],\n",
       " [(61.0, 68.96491228070175, 76.0)],\n",
       " [(57.0, 68.54385964912281, 76.0)],\n",
       " [(57.0, 67.16071428571429, 75.0)],\n",
       " [(58.0, 67.9298245614035, 78.0)],\n",
       " [(57.0, 67.4074074074074, 81.0)]]"
      ]
     },
     "execution_count": 791,
     "metadata": {},
     "output_type": "execute_result"
    }
   ],
   "source": [
    "date_results"
   ]
  }
 ],
 "metadata": {
  "kernel_info": {
   "name": "python3"
  },
  "kernelspec": {
   "display_name": "Python 3",
   "language": "python",
   "name": "python3"
  },
  "language_info": {
   "codemirror_mode": {
    "name": "ipython",
    "version": 3
   },
   "file_extension": ".py",
   "mimetype": "text/x-python",
   "name": "python",
   "nbconvert_exporter": "python",
   "pygments_lexer": "ipython3",
   "version": "3.7.0"
  },
  "nteract": {
   "version": "0.9.1"
  },
  "varInspector": {
   "cols": {
    "lenName": 16,
    "lenType": 16,
    "lenVar": 40
   },
   "kernels_config": {
    "python": {
     "delete_cmd_postfix": "",
     "delete_cmd_prefix": "del ",
     "library": "var_list.py",
     "varRefreshCmd": "print(var_dic_list())"
    },
    "r": {
     "delete_cmd_postfix": ") ",
     "delete_cmd_prefix": "rm(",
     "library": "var_list.r",
     "varRefreshCmd": "cat(var_dic_list()) "
    }
   },
   "types_to_exclude": [
    "module",
    "function",
    "builtin_function_or_method",
    "instance",
    "_Feature"
   ],
   "window_display": false
  }
 },
 "nbformat": 4,
 "nbformat_minor": 2
}
